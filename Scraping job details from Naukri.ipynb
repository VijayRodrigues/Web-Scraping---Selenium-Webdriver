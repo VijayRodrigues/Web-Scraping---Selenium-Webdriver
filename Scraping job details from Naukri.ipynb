{
 "cells": [
  {
   "cell_type": "markdown",
   "id": "4641e29e",
   "metadata": {},
   "source": [
    "# In this question you have to scrape data using the filters available on the webpage as shown below:\n",
    "\n",
    "\n",
    "You have to use the location and salary filter\n",
    "\n",
    "You have to scrape data for “Data Scientist” designation for first 10 job results.\n",
    "\n",
    "You have to scrape the job-title, job-location, company_name, experience_required.\n",
    "\n",
    "The location filter to be used is “Delhi/NCR” The salary filter to be used is “3-6” lakhs\n",
    "\n",
    "The task will be done as shown in the below steps:\n",
    "1.\tfirst get the webpage https://www.naukri.com/\n",
    "2.\tEnter “Data Scientist” in “Skill,Designations,Companies” field .\n",
    " \n",
    "3.\tThen click the search button.\n",
    "4.\tThen apply the location filter and salary filter by checking the respective boxes\n",
    "4.\tThen scrape the data for the first 10 jobs results you get.\n",
    "5.\tFinally create a dataframe of the scraped data.\n",
    "Note- All of the above steps have to be done in code. No step is to be done manually."
   ]
  },
  {
   "cell_type": "markdown",
   "id": "12ad0654",
   "metadata": {},
   "source": [
    "### Importing the Libraries"
   ]
  },
  {
   "cell_type": "code",
   "execution_count": 1,
   "id": "421db7cf",
   "metadata": {},
   "outputs": [],
   "source": [
    "import selenium\n",
    "import pandas as pd\n",
    "from selenium import webdriver\n",
    "from selenium.webdriver.common.by import By\n",
    "from webdriver_manager.chrome import ChromeDriverManager"
   ]
  },
  {
   "cell_type": "markdown",
   "id": "441dd1f0",
   "metadata": {},
   "source": [
    "### Initializing webdriver and enter the URL to be scrapped"
   ]
  },
  {
   "cell_type": "code",
   "execution_count": 2,
   "id": "ddc0d8d4",
   "metadata": {},
   "outputs": [],
   "source": [
    "driver = webdriver.Chrome(r\"C:\\Users\\HP\\Downloads\\chromedriver_win32\\chromedriver.exe\")\n",
    "\n",
    "url = \"https://www.naukri.com/\"\n",
    "driver.get(url)"
   ]
  },
  {
   "cell_type": "markdown",
   "id": "ca225b70",
   "metadata": {},
   "source": [
    "### Type the Keyword you wish to search for\n",
    "\n",
    "#### I have considered to search all \"Data Scientist\" positions"
   ]
  },
  {
   "cell_type": "code",
   "execution_count": 3,
   "id": "008c048c",
   "metadata": {},
   "outputs": [],
   "source": [
    "search_job = driver.find_element_by_id(\"qsb-keyword-sugg\")\n",
    "search_job.send_keys(\"Data Scientist\")"
   ]
  },
  {
   "cell_type": "code",
   "execution_count": 4,
   "id": "6d31d368",
   "metadata": {},
   "outputs": [],
   "source": [
    "\n",
    "# This line runs the search button assosciated with the tex box when you entered the criteria\n",
    "\n",
    "search_btn = driver.find_element_by_xpath(\"//button[@class='btn']\")\n",
    "search_btn.click()"
   ]
  },
  {
   "cell_type": "markdown",
   "id": "7d82a8ce",
   "metadata": {},
   "source": [
    "#### Since I am searching for jobs in \"Delhi\" with certain salary bracket range, the following code's help in achieving that"
   ]
  },
  {
   "cell_type": "code",
   "execution_count": 5,
   "id": "82c4a329",
   "metadata": {},
   "outputs": [],
   "source": [
    "location_filter = driver.find_element(By.XPATH,\"//span[text()= 'Delhi / NCR']\")\n",
    "location_filter.click()"
   ]
  },
  {
   "cell_type": "code",
   "execution_count": 6,
   "id": "21151b04",
   "metadata": {},
   "outputs": [],
   "source": [
    "salary_filter = driver.find_element(By.XPATH,\"//span[text()= '3-6 Lakhs']\")\n",
    "salary_filter.click()"
   ]
  },
  {
   "cell_type": "markdown",
   "id": "ddf90705",
   "metadata": {},
   "source": [
    "#### Extract all the relevant information and append into lists"
   ]
  },
  {
   "cell_type": "code",
   "execution_count": 7,
   "id": "60ff5a54",
   "metadata": {},
   "outputs": [],
   "source": [
    "job_titles = []\n",
    "company_titles = []\n",
    "experience = []\n",
    "salary = []\n",
    "job_location = []\n",
    "\n",
    "search_job_title = driver.find_elements_by_xpath(\"//a[@class='title fw500 ellipsis']\")\n",
    "\n",
    "for jt in search_job_title:\n",
    "    job_titles.append(jt.text)\n",
    "    \n",
    "search_company_title = driver.find_elements_by_xpath(\"//a[@class='subTitle ellipsis fleft']\")\n",
    "\n",
    "for ct in search_company_title:\n",
    "    company_titles.append(ct.text)\n",
    "\n",
    "\n",
    "search_experience = driver.find_elements_by_xpath(\"//li[@class='fleft grey-text br2 placeHolderLi experience']\")\n",
    "\n",
    "for exp in search_experience:\n",
    "    experience.append(exp.text)\n",
    "    \n",
    "\n",
    "search_salary = driver.find_elements_by_xpath(\"//li[@class='fleft grey-text br2 placeHolderLi salary']\")\n",
    "\n",
    "for sal in search_salary:\n",
    "    salary.append(sal.text)\n",
    "    \n",
    "\n",
    "search_job_location = driver.find_elements_by_xpath(\"//li[@class='fleft grey-text br2 placeHolderLi location']\")\n",
    "\n",
    "for jl in search_job_location:\n",
    "    job_location.append(jl.text)\n",
    "    \n",
    "    \n",
    "job_details = {\"Company Name\":company_titles,\"Job Title\":job_titles, \"Experience Required\":experience, \"Salary\":salary, \"Location\":job_location}"
   ]
  },
  {
   "cell_type": "markdown",
   "id": "da950205",
   "metadata": {},
   "source": [
    "### Dictionary \"job_details\" is passed to display output in a data frame\n",
    "\n",
    "#### Output is displated only for 10 rows"
   ]
  },
  {
   "cell_type": "code",
   "execution_count": 8,
   "id": "7c595008",
   "metadata": {},
   "outputs": [
    {
     "data": {
      "text/html": [
       "<div>\n",
       "<style scoped>\n",
       "    .dataframe tbody tr th:only-of-type {\n",
       "        vertical-align: middle;\n",
       "    }\n",
       "\n",
       "    .dataframe tbody tr th {\n",
       "        vertical-align: top;\n",
       "    }\n",
       "\n",
       "    .dataframe thead th {\n",
       "        text-align: right;\n",
       "    }\n",
       "</style>\n",
       "<table border=\"1\" class=\"dataframe\">\n",
       "  <thead>\n",
       "    <tr style=\"text-align: right;\">\n",
       "      <th></th>\n",
       "      <th>Company Name</th>\n",
       "      <th>Job Title</th>\n",
       "      <th>Experience Required</th>\n",
       "      <th>Salary</th>\n",
       "      <th>Location</th>\n",
       "    </tr>\n",
       "  </thead>\n",
       "  <tbody>\n",
       "    <tr>\n",
       "      <th>0</th>\n",
       "      <td>Creative Hands HR Consultancy</td>\n",
       "      <td>Data Scientist/ Machine Learning Engineer</td>\n",
       "      <td>0-0 Yrs</td>\n",
       "      <td>3,00,000 - 4,00,000 PA.</td>\n",
       "      <td>Mohali/SAS Nagar, Hyderabad/Secunderabad, Ahme...</td>\n",
       "    </tr>\n",
       "    <tr>\n",
       "      <th>1</th>\n",
       "      <td>GABA Consultancy services</td>\n",
       "      <td>Only Fresher / Data Scientist / Data Analyst /...</td>\n",
       "      <td>0-0 Yrs</td>\n",
       "      <td>2,25,000 - 4,75,000 PA.</td>\n",
       "      <td>Noida, Greater Noida, Delhi / NCR</td>\n",
       "    </tr>\n",
       "    <tr>\n",
       "      <th>2</th>\n",
       "      <td>inVentiv International Pharma Services Pvt. Ltd.</td>\n",
       "      <td>Senior Data Scientist</td>\n",
       "      <td>3-6 Yrs</td>\n",
       "      <td>Not disclosed</td>\n",
       "      <td>Hyderabad/Secunderabad, Gurgaon/Gurugram, Bang...</td>\n",
       "    </tr>\n",
       "    <tr>\n",
       "      <th>3</th>\n",
       "      <td>iHackers Inc</td>\n",
       "      <td>Data Scientist Internship</td>\n",
       "      <td>0-1 Yrs</td>\n",
       "      <td>Not disclosed</td>\n",
       "      <td>New Delhi</td>\n",
       "    </tr>\n",
       "    <tr>\n",
       "      <th>4</th>\n",
       "      <td>Inference Labs</td>\n",
       "      <td>Data Scientists</td>\n",
       "      <td>3-5 Yrs</td>\n",
       "      <td>Not disclosed</td>\n",
       "      <td>Gurgaon/Gurugram</td>\n",
       "    </tr>\n",
       "    <tr>\n",
       "      <th>5</th>\n",
       "      <td>Newgen Software Technologies Ltd.</td>\n",
       "      <td>Data Scientist</td>\n",
       "      <td>2-5 Yrs</td>\n",
       "      <td>5,00,000 - 12,00,000 PA.</td>\n",
       "      <td>Noida</td>\n",
       "    </tr>\n",
       "    <tr>\n",
       "      <th>6</th>\n",
       "      <td>R Systems International Ltd.</td>\n",
       "      <td>Data Scientist</td>\n",
       "      <td>5-10 Yrs</td>\n",
       "      <td>Not disclosed</td>\n",
       "      <td>Noida(Sector-59 Noida)</td>\n",
       "    </tr>\n",
       "    <tr>\n",
       "      <th>7</th>\n",
       "      <td>Agreeya</td>\n",
       "      <td>Data Scientist</td>\n",
       "      <td>3-6 Yrs</td>\n",
       "      <td>Not disclosed</td>\n",
       "      <td>Noida, Gurgaon/Gurugram, Delhi / NCR</td>\n",
       "    </tr>\n",
       "    <tr>\n",
       "      <th>8</th>\n",
       "      <td>NIL-LABS Innovation Private Limited</td>\n",
       "      <td>Data Scientist</td>\n",
       "      <td>5-10 Yrs</td>\n",
       "      <td>5,00,000 - 7,50,000 PA.</td>\n",
       "      <td>New Delhi, Gurgaon/Gurugram, Delhi / NCR</td>\n",
       "    </tr>\n",
       "    <tr>\n",
       "      <th>9</th>\n",
       "      <td>Experiture</td>\n",
       "      <td>Data Scientist</td>\n",
       "      <td>5-7 Yrs</td>\n",
       "      <td>5,00,000 - 8,50,000 PA.</td>\n",
       "      <td>Kolkata, Hyderabad/Secunderabad, Ahmedabad, Ba...</td>\n",
       "    </tr>\n",
       "  </tbody>\n",
       "</table>\n",
       "</div>"
      ],
      "text/plain": [
       "                                       Company Name  \\\n",
       "0                     Creative Hands HR Consultancy   \n",
       "1                         GABA Consultancy services   \n",
       "2  inVentiv International Pharma Services Pvt. Ltd.   \n",
       "3                                      iHackers Inc   \n",
       "4                                    Inference Labs   \n",
       "5                 Newgen Software Technologies Ltd.   \n",
       "6                      R Systems International Ltd.   \n",
       "7                                           Agreeya   \n",
       "8               NIL-LABS Innovation Private Limited   \n",
       "9                                        Experiture   \n",
       "\n",
       "                                           Job Title Experience Required  \\\n",
       "0          Data Scientist/ Machine Learning Engineer             0-0 Yrs   \n",
       "1  Only Fresher / Data Scientist / Data Analyst /...             0-0 Yrs   \n",
       "2                              Senior Data Scientist             3-6 Yrs   \n",
       "3                          Data Scientist Internship             0-1 Yrs   \n",
       "4                                    Data Scientists             3-5 Yrs   \n",
       "5                                     Data Scientist             2-5 Yrs   \n",
       "6                                     Data Scientist            5-10 Yrs   \n",
       "7                                     Data Scientist             3-6 Yrs   \n",
       "8                                     Data Scientist            5-10 Yrs   \n",
       "9                                     Data Scientist             5-7 Yrs   \n",
       "\n",
       "                     Salary                                           Location  \n",
       "0   3,00,000 - 4,00,000 PA.  Mohali/SAS Nagar, Hyderabad/Secunderabad, Ahme...  \n",
       "1   2,25,000 - 4,75,000 PA.                  Noida, Greater Noida, Delhi / NCR  \n",
       "2             Not disclosed  Hyderabad/Secunderabad, Gurgaon/Gurugram, Bang...  \n",
       "3             Not disclosed                                          New Delhi  \n",
       "4             Not disclosed                                   Gurgaon/Gurugram  \n",
       "5  5,00,000 - 12,00,000 PA.                                              Noida  \n",
       "6             Not disclosed                             Noida(Sector-59 Noida)  \n",
       "7             Not disclosed               Noida, Gurgaon/Gurugram, Delhi / NCR  \n",
       "8   5,00,000 - 7,50,000 PA.           New Delhi, Gurgaon/Gurugram, Delhi / NCR  \n",
       "9   5,00,000 - 8,50,000 PA.  Kolkata, Hyderabad/Secunderabad, Ahmedabad, Ba...  "
      ]
     },
     "execution_count": 8,
     "metadata": {},
     "output_type": "execute_result"
    }
   ],
   "source": [
    "job_details_df = pd.DataFrame(job_details)\n",
    "job_details_df[:10]"
   ]
  }
 ],
 "metadata": {
  "kernelspec": {
   "display_name": "Python 3",
   "language": "python",
   "name": "python3"
  },
  "language_info": {
   "codemirror_mode": {
    "name": "ipython",
    "version": 3
   },
   "file_extension": ".py",
   "mimetype": "text/x-python",
   "name": "python",
   "nbconvert_exporter": "python",
   "pygments_lexer": "ipython3",
   "version": "3.8.5"
  }
 },
 "nbformat": 4,
 "nbformat_minor": 5
}
